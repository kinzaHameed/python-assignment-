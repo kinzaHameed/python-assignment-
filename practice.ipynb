{
 "cells": [
  {
   "cell_type": "code",
   "execution_count": 16,
   "metadata": {},
   "outputs": [
    {
     "name": "stdout",
     "output_type": "stream",
     "text": [
      "['bmw', 'mehran', 'subri', 'toyota']\n",
      "['toyota', 'subri', 'mehran', 'bmw']\n",
      "Here is the sorted list:\n",
      "['bmw', 'mehran', 'subri', 'toyota']\n",
      "\n",
      "here is the orignol list:\n",
      "['toyota', 'subri', 'mehran', 'bmw']\n",
      "['toyota', 'subri', 'mehran', 'bmw', 'mcidies']\n"
     ]
    },
    {
     "data": {
      "text/plain": [
       "5"
      ]
     },
     "execution_count": 16,
     "metadata": {},
     "output_type": "execute_result"
    }
   ],
   "source": [
    "cars:list = [\"bmw\",\"subri\",\"toyota\",'mehran']\n",
    "cars.sort()\n",
    "print(cars)\n",
    "cars.sort(reverse=True)\n",
    "print(cars)\n",
    "\n",
    "print(\"Here is the sorted list:\")\n",
    "print(sorted(cars))\n",
    "\n",
    "print (\"\\nhere is the orignol list:\")\n",
    "print(cars)\n",
    "#append\n",
    "cars.append(\"mcidies\")\n",
    "print(cars)\n",
    "len(cars)\n",
    "\n",
    "\n"
   ]
  },
  {
   "cell_type": "code",
   "execution_count": 17,
   "metadata": {},
   "outputs": [
    {
     "name": "stdout",
     "output_type": "stream",
     "text": [
      "nwaz sham on you !\n",
      " I can't wait to see you hanged NWAZ\n",
      "\n",
      "zardari sham on you !\n",
      " I can't wait to see you hanged ZARDARI\n",
      "\n",
      "shahbaz sham on you !\n",
      " I can't wait to see you hanged SHAHBAZ\n",
      "\n",
      " May Allah bless Pakistan with a true leader\n"
     ]
    }
   ],
   "source": [
    "# loop\n",
    "politicians:list = [\"nwaz\", \"zardari\", 'shahbaz']\n",
    "for politician in politicians:\n",
    "\n",
    "    print(f\"{politician.lower()} sham on you !\")\n",
    "\n",
    "    print(f\" I can't wait to see you hanged {politician.upper()}\\n\")\n",
    "    \n",
    "print(\" May Allah bless Pakistan with a true leader\")"
   ]
  },
  {
   "cell_type": "code",
   "execution_count": 18,
   "metadata": {},
   "outputs": [
    {
     "name": "stdout",
     "output_type": "stream",
     "text": [
      "7\n",
      " your points are 7 now\n"
     ]
    }
   ],
   "source": [
    "# dICTIONARY \n",
    "aliens = {'color':'red' , 'points': 7}\n",
    "print(aliens['points'])\n",
    "new_points = aliens['points']\n",
    "print(f\" your points are {new_points} now\")"
   ]
  },
  {
   "cell_type": "markdown",
   "metadata": {},
   "source": [
    "# If statment"
   ]
  },
  {
   "cell_type": "code",
   "execution_count": 19,
   "metadata": {},
   "outputs": [
    {
     "name": "stdout",
     "output_type": "stream",
     "text": [
      "BMW\n",
      "Bmw\n"
     ]
    }
   ],
   "source": [
    "cars = ['toyota', 'suzuk', 'mehran', 'bmw']\n",
    "for car in cars:\n",
    " if car == 'bmw':\n",
    "  print(car.upper())\n",
    "else:\n",
    " print(car.title())"
   ]
  },
  {
   "cell_type": "code",
   "execution_count": 20,
   "metadata": {},
   "outputs": [
    {
     "name": "stdout",
     "output_type": "stream",
     "text": [
      "Audi\n",
      "BMW\n",
      "Subaru\n",
      "Toyota\n"
     ]
    }
   ],
   "source": [
    "cars = ['audi', 'bmw', 'subaru', 'toyota']\n",
    "for car in cars:\n",
    " if car == 'bmw':\n",
    "  print(car.upper())\n",
    " else:\n",
    "  print(car.title())"
   ]
  },
  {
   "cell_type": "code",
   "execution_count": 21,
   "metadata": {},
   "outputs": [
    {
     "data": {
      "text/plain": [
       "False"
      ]
     },
     "execution_count": 21,
     "metadata": {},
     "output_type": "execute_result"
    }
   ],
   "source": [
    "car = 'Audi' \n",
    "car == 'audi'\n"
   ]
  },
  {
   "cell_type": "code",
   "execution_count": 22,
   "metadata": {},
   "outputs": [
    {
     "name": "stdout",
     "output_type": "stream",
     "text": [
      "Hold the anchovies!\n"
     ]
    }
   ],
   "source": [
    "requested_topping = 'mushrooms'\n",
    "if requested_topping != 'anchovies':\n",
    " print(\"Hold the anchovies!\")"
   ]
  },
  {
   "cell_type": "code",
   "execution_count": null,
   "metadata": {},
   "outputs": [],
   "source": []
  },
  {
   "cell_type": "code",
   "execution_count": 23,
   "metadata": {},
   "outputs": [
    {
     "name": "stdout",
     "output_type": "stream",
     "text": [
      "you are not eligible to vote\n",
      "That is not the correct answer. Please try again!\n"
     ]
    }
   ],
   "source": [
    "age = 17\n",
    "age != 18\n",
    "print(\"you are not eligible to vote\")\n",
    "\n",
    "answer = 17\n",
    "if answer != 42:\n",
    " print(\"That is not the correct answer. Please try again!\")\n",
    " "
   ]
  },
  {
   "cell_type": "code",
   "execution_count": 24,
   "metadata": {},
   "outputs": [
    {
     "data": {
      "text/plain": [
       "False"
      ]
     },
     "execution_count": 24,
     "metadata": {},
     "output_type": "execute_result"
    }
   ],
   "source": [
    "# and operator\n",
    "age_0 = 20\n",
    "age_1 = 33\n",
    "age_0 >= 33 and age_1 <= 23\n",
    "age_0 <=age_1\n",
    "\n",
    "(age_0 >= 21) and (age_1 >= 21)"
   ]
  },
  {
   "cell_type": "code",
   "execution_count": 25,
   "metadata": {},
   "outputs": [
    {
     "data": {
      "text/plain": [
       "False"
      ]
     },
     "execution_count": 25,
     "metadata": {},
     "output_type": "execute_result"
    }
   ],
   "source": [
    "# OR operator\n",
    "age = 23\n",
    "age_1 = 33\n",
    "\n",
    "age >=55 or age_1 <= 4"
   ]
  },
  {
   "cell_type": "code",
   "execution_count": 26,
   "metadata": {},
   "outputs": [
    {
     "data": {
      "text/plain": [
       "False"
      ]
     },
     "execution_count": 26,
     "metadata": {},
     "output_type": "execute_result"
    }
   ],
   "source": [
    "# IN (to check the presence of item in list)\n",
    "stationay = [\"pen\", \"pencil\", \"notebook\", \"colors\"]\n",
    "\"notebook\" in stationay\n",
    "\"sketchbook\" in stationay"
   ]
  },
  {
   "cell_type": "code",
   "execution_count": 27,
   "metadata": {},
   "outputs": [
    {
     "name": "stdout",
     "output_type": "stream",
     "text": [
      "KINZA ,you are welcome to comment\n"
     ]
    }
   ],
   "source": [
    "# Checking Whether a Value Is Not in a List\n",
    "banned_users = [\"iram\" , \"eman\"]\n",
    "user = \"kinza\"\n",
    "if user not in banned_users:\n",
    " print(f\"{user.upper()} ,you are welcome to comment\")"
   ]
  },
  {
   "cell_type": "code",
   "execution_count": 28,
   "metadata": {},
   "outputs": [
    {
     "name": "stdout",
     "output_type": "stream",
     "text": [
      "Marie, you can post a response if you wish.\n"
     ]
    }
   ],
   "source": [
    "banned_users = ['andrew', 'carolina', 'david']\n",
    "user = 'marie'\n",
    "if user not in banned_users:\n",
    " print(f\"{user.title()}, you can post a response if you wish.\")"
   ]
  },
  {
   "cell_type": "code",
   "execution_count": 29,
   "metadata": {},
   "outputs": [
    {
     "name": "stdout",
     "output_type": "stream",
     "text": [
      "Mubarra you can chat\n"
     ]
    }
   ],
   "source": [
    "blocked = [\"mehwish\", \"aima\", \"tim\"]\n",
    "contact = \"mubarra\"\n",
    "if contact not in blocked:\n",
    "    print(f\"{contact.title()} you can chat\")"
   ]
  },
  {
   "cell_type": "markdown",
   "metadata": {},
   "source": [
    "# conditional tests assignment"
   ]
  },
  {
   "cell_type": "code",
   "execution_count": 30,
   "metadata": {},
   "outputs": [
    {
     "name": "stdout",
     "output_type": "stream",
     "text": [
      "Is car == 'subaru'? I predict True.\n",
      "True\n",
      "\n",
      "Is car == 'audi'? I predict False.\n",
      "False\n"
     ]
    }
   ],
   "source": [
    "car = 'subaru'\n",
    "print(\"Is car == 'subaru'? I predict True.\")\n",
    "print(car == 'subaru')\n",
    "print(\"\\nIs car == 'audi'? I predict False.\")\n",
    "print(car == 'audi')"
   ]
  },
  {
   "cell_type": "code",
   "execution_count": 31,
   "metadata": {},
   "outputs": [
    {
     "name": "stdout",
     "output_type": "stream",
     "text": [
      "is leader == 'jinah'? i predict true\n",
      "jinah\n",
      "\n",
      "is leader is == 'nwaz' i predict false\n",
      "False\n"
     ]
    }
   ],
   "source": [
    "leader = \"jinah\"\n",
    "print(\"is leader == 'jinah'? i predict true\")\n",
    "print(leader)\n",
    "print(\"\\nis leader is == 'nwaz' i predict false\")\n",
    "print(leader == \"nwaz\")\n"
   ]
  },
  {
   "cell_type": "code",
   "execution_count": 32,
   "metadata": {},
   "outputs": [
    {
     "name": "stdout",
     "output_type": "stream",
     "text": [
      " Is voter == 'kinza' ? ipredict true\n",
      "kinza\n",
      " if voter is == 'saman'? ipredict false\n",
      "False\n"
     ]
    }
   ],
   "source": [
    "voter = \"kinza\"\n",
    "print(\" Is voter == 'kinza' ? ipredict true\")\n",
    "print(voter)\n",
    "print(\" if voter is == 'saman'? ipredict false\")\n",
    "print(voter == 'saman')"
   ]
  },
  {
   "cell_type": "code",
   "execution_count": 33,
   "metadata": {},
   "outputs": [
    {
     "name": "stdout",
     "output_type": "stream",
     "text": [
      "is car == city? i predict true\n",
      "city\n",
      " if car== mehran ? i predict false\n",
      "False\n"
     ]
    }
   ],
   "source": [
    "car = \"city\"\n",
    "print(\"is car == city? i predict true\")\n",
    "print(car)\n",
    "print(\" if car== mehran ? i predict false\")\n",
    "print(car ==\" mehran\")"
   ]
  },
  {
   "cell_type": "markdown",
   "metadata": {},
   "source": [
    "# If statement"
   ]
  },
  {
   "cell_type": "code",
   "execution_count": 34,
   "metadata": {},
   "outputs": [
    {
     "name": "stdout",
     "output_type": "stream",
     "text": [
      "Not eligible\n"
     ]
    }
   ],
   "source": [
    "age = 18\n",
    "if age >= 19:\n",
    " print(\" you are eligible to vote\")\n",
    "else:\n",
    " print('Not eligible')"
   ]
  },
  {
   "cell_type": "code",
   "execution_count": 35,
   "metadata": {},
   "outputs": [
    {
     "name": "stdout",
     "output_type": "stream",
     "text": [
      "You are old enough to vote!\n",
      "Have you registerd for vote?\n",
      "\n",
      "Sorry you are too young to vote\n"
     ]
    }
   ],
   "source": [
    "age = 19\n",
    "if age >= 18:\n",
    " print(\"You are old enough to vote!\")\n",
    " print(\"Have you registerd for vote?\")\n",
    "\n",
    " age2 = 17\n",
    " if age2 >=18:\n",
    "  print(\"conrats! You are eligible\")\n",
    " else:\n",
    "  print(\"\\nSorry you are too young to vote\")\n"
   ]
  },
  {
   "cell_type": "markdown",
   "metadata": {},
   "source": [
    "# The if-elif-else Chain"
   ]
  },
  {
   "cell_type": "code",
   "execution_count": 36,
   "metadata": {},
   "outputs": [
    {
     "name": "stdout",
     "output_type": "stream",
     "text": [
      "Your admission cost is $25.\n"
     ]
    }
   ],
   "source": [
    "age = 12\n",
    "if age < 4:\n",
    " print(\"Your admission cost is $0.\")\n",
    "elif age < 18:\n",
    " print(\"Your admission cost is $25.\")\n",
    "else:\n",
    " print(\"Your admission cost is $40.\")"
   ]
  },
  {
   "cell_type": "code",
   "execution_count": 37,
   "metadata": {},
   "outputs": [
    {
     "name": "stdout",
     "output_type": "stream",
     "text": [
      "this shopping mall is not for you\n"
     ]
    }
   ],
   "source": [
    "cost = 44\n",
    "if cost < 300:\n",
    "    print(\"this shopping mall is not for you\")\n",
    "elif cost <1500:\n",
    " print(\"you can enjoy tea\")\n",
    "else:\n",
    "   print(\"you are welcome to shop\")"
   ]
  },
  {
   "cell_type": "code",
   "execution_count": 38,
   "metadata": {},
   "outputs": [
    {
     "name": "stdout",
     "output_type": "stream",
     "text": [
      "Your admission cost is $25.\n"
     ]
    }
   ],
   "source": [
    "age = 12\n",
    "if age < 4:\n",
    " print(\"Your admission cost is $0.\")\n",
    "elif age < 18:\n",
    " print(\"Your admission cost is $25.\")\n",
    "else:\n",
    " print(\"Your admission cost is $40.\")"
   ]
  },
  {
   "cell_type": "code",
   "execution_count": 39,
   "metadata": {},
   "outputs": [
    {
     "name": "stdout",
     "output_type": "stream",
     "text": [
      " you dont need a tickect\n"
     ]
    }
   ],
   "source": [
    "age = 4\n",
    "if age < 10:\n",
    "    print(\" you dont need a tickect\")\n",
    "elif age < 12:\n",
    "    print(\"your tickect cost 100\")\n",
    "elif age < 15:\n",
    "    print(\"your ticket cost 250\")\n",
    "else:\n",
    "    print(\"your ticket cost 500\")"
   ]
  },
  {
   "cell_type": "code",
   "execution_count": 40,
   "metadata": {},
   "outputs": [
    {
     "name": "stdout",
     "output_type": "stream",
     "text": [
      "the price would be 1000\n"
     ]
    }
   ],
   "source": [
    "pages = 100\n",
    "if pages < 100:\n",
    "    print('the cost woul be 200')\n",
    "elif pages <200:\n",
    "    print(\"the price would be 1000\")\n",
    "elif pages > 200:\n",
    "    print(\"the price would be 5000\")\n",
    "else:\n",
    "    print(\"price would be 5000\")\n",
    "\n"
   ]
  },
  {
   "cell_type": "code",
   "execution_count": 41,
   "metadata": {},
   "outputs": [
    {
     "name": "stdout",
     "output_type": "stream",
     "text": [
      "your printing cost is $500\n"
     ]
    }
   ],
   "source": [
    "pages = 100\n",
    "if pages < 100:\n",
    "    price = 400\n",
    "elif pages <200:\n",
    "    price = 500\n",
    "elif pages > 200:\n",
    "    price = 1000\n",
    "\n",
    "print(f\"your printing cost is ${price}\")"
   ]
  },
  {
   "cell_type": "markdown",
   "metadata": {},
   "source": [
    "# Testing Multiple Conditions"
   ]
  },
  {
   "cell_type": "code",
   "execution_count": 42,
   "metadata": {},
   "outputs": [
    {
     "name": "stdout",
     "output_type": "stream",
     "text": [
      "Adding mushrooms.\n"
     ]
    }
   ],
   "source": [
    "requested_toppings = ['mushrooms', 'extra cheese']\n",
    "if 'mushrooms' in requested_toppings:\n",
    " print(\"Adding mushrooms.\")\n",
    "if 'pepperoni' in requested_toppings:\n",
    " print(\"Adding pepperoni.\")"
   ]
  },
  {
   "cell_type": "code",
   "execution_count": 49,
   "metadata": {},
   "outputs": [
    {
     "name": "stdout",
     "output_type": "stream",
     "text": [
      "you was a great Mr.jinnah\n",
      "We need a thinker like you \n"
     ]
    }
   ],
   "source": [
    "politicians = [\"jinah\" ,\"IK\", \"iqbal\"]\n",
    "if \"jinah\" in politicians:\n",
    "    print(\"you was a great Mr.jinnah\")\n",
    "if \"iqbal\" in politicians:\n",
    "    print(\"We need a thinker like you \")\n"
   ]
  },
  {
   "cell_type": "markdown",
   "metadata": {},
   "source": [
    "# Assignment of IF statment"
   ]
  },
  {
   "cell_type": "code",
   "execution_count": 55,
   "metadata": {},
   "outputs": [],
   "source": [
    "alien_color = 'green'\n",
    "if 'green' in alien_color:\n",
    "    print(\"you got 5 points\")"
   ]
  },
  {
   "cell_type": "code",
   "execution_count": 58,
   "metadata": {},
   "outputs": [
    {
     "name": "stdout",
     "output_type": "stream",
     "text": [
      "The player just earned 10 points\n"
     ]
    }
   ],
   "source": [
    "alien_color = 'red'\n",
    "if 'green' in alien_color:\n",
    "    print(\"you got 5 points\")\n",
    "else:\n",
    "    print(\"The player just earned 10 points\")"
   ]
  },
  {
   "cell_type": "code",
   "execution_count": 62,
   "metadata": {},
   "outputs": [
    {
     "name": "stdout",
     "output_type": "stream",
     "text": [
      "The 'green' player earned 5 points\n",
      "the 'red' player earned 15 points\n",
      "the 'yellow ane' player earned 20 points\n"
     ]
    }
   ],
   "source": [
    "# lien Colors #3: Turn your if-else chain from Exercise 5-4 into an if-elif\u0002else chain.\n",
    "# • If the alien is green, print a message that the player earned 5 points.\n",
    "# • If the alien is yellow, print a message that the player earned 10 points.\n",
    "# • If the alien is red, print a message that the player earned 15 points.\n",
    "# • Write three versions of this program, making sure each message is printed \n",
    "# for the appropriate color alien.\n",
    "alien_color = ['green', 'red', 'yellow']\n",
    "if 'green' in alien_color:\n",
    "    print(\"The 'green' player earned 5 points\")\n",
    "    if \"red\" in alien_color:\n",
    "        print(\"the 'red' player earned 15 points\")\n",
    "        if \"yellow\" in alien_color:\n",
    "            print(\"the 'yellow ane' player earned 20 points\")"
   ]
  },
  {
   "cell_type": "markdown",
   "metadata": {},
   "source": [
    "<!-- . Stages of Life: Write an if-elif-else chain that determines a person’s stage \n",
    "of life. Set a value for the variable age, and then:\n",
    "• If the person is less than 2 years old, print a message that the person is \n",
    "a baby.\n",
    "• If the person is at least 2 years old but less than 4, print a message that the \n",
    "person is a toddler.\n",
    "• If the person is at least 4 years old but less than 13, print a message that \n",
    "the person is a kid.\n",
    "• If the person is at least 13 years old but less than 20, print a message that \n",
    "the person is a teenager.\n",
    "• If the person is at least 20 years old but less than 65, print a message that \n",
    "the person is an adult.\n",
    "• If the person is age 65 or older, print a message that the person is an elder -->"
   ]
  },
  {
   "cell_type": "code",
   "execution_count": 66,
   "metadata": {},
   "outputs": [
    {
     "name": "stdout",
     "output_type": "stream",
     "text": [
      "You are an elder\n",
      "The person is 60\n"
     ]
    }
   ],
   "source": [
    "age = 60\n",
    "if age < 2:\n",
    "    print(\"the person is a baby.\")\n",
    "elif age <=4:\n",
    "        print(\"the person is a toddler.\")\n",
    "elif age <=13: \n",
    " print(\"the person is a kid\")\n",
    "elif age <= 20:\n",
    " print(\"the person is a teeager.\")   \n",
    "elif age <=20:\n",
    "    print(\"the person is a adult.\")   \n",
    "elif age >=60:\n",
    "    print(\"You are an elder\")\n",
    "        \n",
    "print(f\"The person is {age}\")        "
   ]
  },
  {
   "cell_type": "markdown",
   "metadata": {},
   "source": [
    "# Checking for Special Items"
   ]
  },
  {
   "cell_type": "code",
   "execution_count": 2,
   "metadata": {},
   "outputs": [
    {
     "name": "stdout",
     "output_type": "stream",
     "text": [
      "Adding mushrooms.\n",
      "Adding green peppers.\n",
      "Adding extra cheese.\n",
      "\n",
      "Finished making your pizza!\n"
     ]
    }
   ],
   "source": [
    "requested_toppings = ['mushrooms', 'green peppers', 'extra cheese']\n",
    "for requested_topping in requested_toppings:\n",
    " print(f\"Adding {requested_topping}.\")\n",
    "print(\"\\nFinished making your pizza!\")"
   ]
  },
  {
   "cell_type": "code",
   "execution_count": 13,
   "metadata": {},
   "outputs": [
    {
     "name": "stdout",
     "output_type": "stream",
     "text": [
      "Adding mashroomsgreen peppers.\n",
      "Adding extra cheese.\n",
      "\n",
      "Finished making your pizza!\n"
     ]
    }
   ],
   "source": [
    "requested_toppings = ['mashrooms' 'green peppers', 'extra cheese']\n",
    "for requested_topping in requested_toppings:\n",
    " if requested_topping == \"mashrooms\":\n",
    "  print(\"sorry! mashrooms are out of stock\")\n",
    " else:\n",
    "    print(f\"Adding {requested_topping}.\")\n",
    "print(\"\\nFinished making your pizza!\")"
   ]
  },
  {
   "cell_type": "code",
   "execution_count": 11,
   "metadata": {},
   "outputs": [
    {
     "name": "stdout",
     "output_type": "stream",
     "text": [
      "Adding mushrooms.\n",
      "Sorry, we are out of green peppers right now.\n",
      "Adding extra cheese.\n"
     ]
    }
   ],
   "source": [
    "requested_toppings = ['mushrooms', 'green peppers', 'extra cheese']\n",
    "for requested_topping in requested_toppings:\n",
    " if requested_topping == 'green peppers':\n",
    "  print(\"Sorry, we are out of green peppers right now.\")\n",
    " else:\n",
    "  print(f\"Adding {requested_topping}.\")"
   ]
  },
  {
   "cell_type": "code",
   "execution_count": 8,
   "metadata": {},
   "outputs": [
    {
     "name": "stdout",
     "output_type": "stream",
     "text": [
      " I love to eat plao !\n",
      " I love to eat nehari !\n",
      " I love to eat kabab !\n",
      "\n",
      "In junk i love to eat pizza!\n"
     ]
    }
   ],
   "source": [
    "fav_foods = [\"plao\", \"nehari\", \"kabab\"]\n",
    "for food in fav_foods:\n",
    "    print(f\" I love to eat {food} !\") \n",
    "\n",
    "print(\"\\nIn junk i love to eat pizza!\")   "
   ]
  },
  {
   "cell_type": "code",
   "execution_count": 7,
   "metadata": {},
   "outputs": [
    {
     "name": "stdout",
     "output_type": "stream",
     "text": [
      "sorry, out of  stock we don't have shikwa\n",
      "\n",
      " we will provide soon\n",
      "sorry, out of  stock we don't have bang e dara\n",
      "\n",
      " we will provide soon\n",
      "sorry, out of  stock we don't have Serah\n",
      "\n",
      " we will provide soon\n"
     ]
    }
   ],
   "source": [
    "# Using Multiple Lists\n",
    "available_books = [\"history\", \"islam\", \"serah\"]\n",
    "requested_books = [\"shikwa\", \"bang e dara\", \"Serah\"]\n",
    "for requested_book in requested_books:\n",
    "    if requested_book in available_books:\n",
    "        print(f\"available {requested_book}\")\n",
    "    else:\n",
    "        print(f\"sorry, out of  stock we don't have {requested_book}\")\n",
    "    print(\"\\n we will provide soon\")"
   ]
  },
  {
   "cell_type": "code",
   "execution_count": 5,
   "metadata": {},
   "outputs": [
    {
     "name": "stdout",
     "output_type": "stream",
     "text": [
      "Adding mushrooms.\n",
      "Sorry, we don't have french fries.\n",
      "Adding extra cheese.\n",
      "\n",
      "Finished making your pizza!\n"
     ]
    }
   ],
   "source": [
    "available_toppings = ['mushrooms', 'olives', 'green peppers',\n",
    " 'pepperoni', 'pineapple', 'extra cheese']\n",
    "requested_toppings = ['mushrooms', 'french fries', 'extra cheese']\n",
    "for requested_topping in requested_toppings:\n",
    " if requested_topping in available_toppings:\n",
    "  print(f\"Adding {requested_topping}.\")\n",
    " else:\n",
    "  print(f\"Sorry, we don't have {requested_topping}.\")\n",
    "print(\"\\nFinished making your pizza!\")"
   ]
  },
  {
   "cell_type": "code",
   "execution_count": 13,
   "metadata": {},
   "outputs": [
    {
     "name": "stdout",
     "output_type": "stream",
     "text": [
      "sorry, we dont have\n",
      "sorry, we dont have\n",
      "congrats! you can buy tesla\n",
      "have a safe journey\n"
     ]
    }
   ],
   "source": [
    "cars = [\"bmw\", \"tpyota\", 'tesla']\n",
    "requested_cars = [\"mercidies\", \"carola\", \"tesla\"]\n",
    "for requested_car in requested_cars:\n",
    "    if requested_car in cars:\n",
    "        print(f\"congrats! you can buy {requested_car}\")\n",
    "    else:\n",
    "        print(\"sorry, we dont have\")\n",
    "print(\"have a safe journey\")"
   ]
  },
  {
   "cell_type": "markdown",
   "metadata": {},
   "source": [
    "# Assignment"
   ]
  },
  {
   "cell_type": "markdown",
   "metadata": {},
   "source": [
    "<!-- -8. Hello Admin: Make a list of five or more usernames, including the name \n",
    "'admin'. Imagine you are writing code that will print a greeting to each user \n",
    "after they log in to a website. Loop through the list, and print a greeting to \n",
    "each user.\n",
    "• If the username is 'admin', print a special greeting, such as Hello admin, \n",
    "would you like to see a status report?\n",
    "• Otherwise, print a generic greeting, such as Hello Jaden, thank you for \n",
    "logging in again. -->"
   ]
  },
  {
   "cell_type": "code",
   "execution_count": 14,
   "metadata": {},
   "outputs": [
    {
     "name": "stdout",
     "output_type": "stream",
     "text": [
      "thank you for logging again\n",
      "thank you for logging again\n",
      "thank you for logging again\n",
      "thank you for logging again\n",
      "Hello admin, would you like to see a status report?\n"
     ]
    }
   ],
   "source": [
    "users = [\"abc\", \"def\", \"aliza\",\"kinza\", \"admin\"]\n",
    "for user in users:\n",
    "    if user == \"admin\":\n",
    "        print(\"Hello admin, would you like to see a status report?\")\n",
    "    else:\n",
    "        print(\"thank you for logging again\")"
   ]
  },
  {
   "cell_type": "markdown",
   "metadata": {},
   "source": [
    "<!-- -9. No Users: Add an if test to hello_admin.py to make sure the list of users is \n",
    "not empty.\n",
    "• If the list is empty, print the message We need to find some users!\n",
    "• Remove all of the usernames from your list, and make sure the correct mes\u0002sage is printed. -->"
   ]
  },
  {
   "cell_type": "code",
   "execution_count": 18,
   "metadata": {},
   "outputs": [
    {
     "name": "stdout",
     "output_type": "stream",
     "text": [
      "We need to find some users!\n"
     ]
    }
   ],
   "source": [
    "users = []\n",
    "user in users\n",
    "if users != \"admin\":\n",
    " print(\"We need to find some users!\")"
   ]
  },
  {
   "cell_type": "code",
   "execution_count": null,
   "metadata": {},
   "outputs": [],
   "source": [
    "# <!-- Checking Usernames: Do the following to create a program that simulates \n",
    "# how websites ensure that everyone has a unique username.\n",
    "# • Make a list of five or more usernames called current_users.\n",
    "# • Make another list of five usernames called new_users. Make sure one or \n",
    "# two of the new usernames are also in the current_users list.\n",
    "# • Loop through the new_users list to see if each new username has already \n",
    "# been used. If it has, print a message that the person will need to enter a \n",
    "# new username. If a username has not been used, print a message saying \n",
    "# that the username is available.\n",
    "# • Make sure your comparison is case insensitive. If 'John' has been used, \n",
    "# 'JOHN' should not be accepted. (To do this, you’ll need to make a copy of \n",
    "# current_users containing the lowercase versions of all existing users. -->"
   ]
  },
  {
   "cell_type": "code",
   "execution_count": 26,
   "metadata": {},
   "outputs": [
    {
     "name": "stdout",
     "output_type": "stream",
     "text": [
      "available\n",
      "you need to enter a new user name hameed\n",
      "available\n",
      "available\n"
     ]
    }
   ],
   "source": [
    "current_users = [\"abdul\", \"hameed\", \"john\", \"moon\"]\n",
    "new_users = [\"kinza\", \"hameed\", \"iram\",\"eman\"]\n",
    "\n",
    "for new_user in new_users:\n",
    "    if new_user in current_users:\n",
    "        print(f\"you need to enter a new user name {new_user}\")\n",
    "    else:\n",
    "        print(\"available\")"
   ]
  }
 ],
 "metadata": {
  "kernelspec": {
   "display_name": "Python 3",
   "language": "python",
   "name": "python3"
  },
  "language_info": {
   "codemirror_mode": {
    "name": "ipython",
    "version": 3
   },
   "file_extension": ".py",
   "mimetype": "text/x-python",
   "name": "python",
   "nbconvert_exporter": "python",
   "pygments_lexer": "ipython3",
   "version": "3.12.0"
  }
 },
 "nbformat": 4,
 "nbformat_minor": 2
}
